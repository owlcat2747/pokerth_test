{
  "cells": [
    {
      "cell_type": "markdown",
      "metadata": {
        "id": "I_85cGB3ngDu"
      },
      "source": [
        "## Homework 4\n",
        "\n",
        "This assignment is about fitting models to data and analyzing data to determine statistical quantities. Data analysis is a major part of an engineer's ability to extract useful and actionable information from data.\n",
        "\n",
        "* Nonlinear regression\n",
        "* Statistical and other functions\n",
        "* Create bar plot"
      ]
    },
    {
      "cell_type": "markdown",
      "metadata": {
        "id": "FriLyj8engD1"
      },
      "source": [
        "### Problem #1\n",
        "\n",
        "Heart rate data (Beats per minute or BPM) as a function of time (sec) for a twenty-minute period of constant exertion is found at:\n",
        "\n",
        "* <a href='https://apmonitor.com/che263/uploads/Main/heart_rate.txt' target='_blank'>Heart Rate Data, URL: https://apmonitor.com/che263/uploads/Main/heart_rate.txt</a>\n",
        "\n",
        "The time of each measurement, in seconds, in listed in the first column, and the measured heart rate, in beats per minute, in the second column.\n",
        "\n",
        "***Action:*** Import the data, print the first 5 rows, and print summary statistics."
      ]
    },
    {
      "cell_type": "code",
      "execution_count": 6,
      "metadata": {
        "id": "dzKgpMkvngD2",
        "outputId": "fc61efe2-23b6-4d12-c3ef-e7a3c31f904c",
        "colab": {
          "base_uri": "https://localhost:8080/",
          "height": 206
        }
      },
      "outputs": [
        {
          "output_type": "execute_result",
          "data": {
            "text/plain": [
              "   Time (sec)  Heart Rate (BPM)\n",
              "0         0.0               103\n",
              "1         5.0               103\n",
              "2        10.0               103\n",
              "3        15.0               105\n",
              "4        20.0               108"
            ],
            "text/html": [
              "\n",
              "  <div id=\"df-d2ef1ba4-5651-4a27-9b9b-efd43ea8e58e\" class=\"colab-df-container\">\n",
              "    <div>\n",
              "<style scoped>\n",
              "    .dataframe tbody tr th:only-of-type {\n",
              "        vertical-align: middle;\n",
              "    }\n",
              "\n",
              "    .dataframe tbody tr th {\n",
              "        vertical-align: top;\n",
              "    }\n",
              "\n",
              "    .dataframe thead th {\n",
              "        text-align: right;\n",
              "    }\n",
              "</style>\n",
              "<table border=\"1\" class=\"dataframe\">\n",
              "  <thead>\n",
              "    <tr style=\"text-align: right;\">\n",
              "      <th></th>\n",
              "      <th>Time (sec)</th>\n",
              "      <th>Heart Rate (BPM)</th>\n",
              "    </tr>\n",
              "  </thead>\n",
              "  <tbody>\n",
              "    <tr>\n",
              "      <th>0</th>\n",
              "      <td>0.0</td>\n",
              "      <td>103</td>\n",
              "    </tr>\n",
              "    <tr>\n",
              "      <th>1</th>\n",
              "      <td>5.0</td>\n",
              "      <td>103</td>\n",
              "    </tr>\n",
              "    <tr>\n",
              "      <th>2</th>\n",
              "      <td>10.0</td>\n",
              "      <td>103</td>\n",
              "    </tr>\n",
              "    <tr>\n",
              "      <th>3</th>\n",
              "      <td>15.0</td>\n",
              "      <td>105</td>\n",
              "    </tr>\n",
              "    <tr>\n",
              "      <th>4</th>\n",
              "      <td>20.0</td>\n",
              "      <td>108</td>\n",
              "    </tr>\n",
              "  </tbody>\n",
              "</table>\n",
              "</div>\n",
              "    <div class=\"colab-df-buttons\">\n",
              "\n",
              "  <div class=\"colab-df-container\">\n",
              "    <button class=\"colab-df-convert\" onclick=\"convertToInteractive('df-d2ef1ba4-5651-4a27-9b9b-efd43ea8e58e')\"\n",
              "            title=\"Convert this dataframe to an interactive table.\"\n",
              "            style=\"display:none;\">\n",
              "\n",
              "  <svg xmlns=\"http://www.w3.org/2000/svg\" height=\"24px\" viewBox=\"0 -960 960 960\">\n",
              "    <path d=\"M120-120v-720h720v720H120Zm60-500h600v-160H180v160Zm220 220h160v-160H400v160Zm0 220h160v-160H400v160ZM180-400h160v-160H180v160Zm440 0h160v-160H620v160ZM180-180h160v-160H180v160Zm440 0h160v-160H620v160Z\"/>\n",
              "  </svg>\n",
              "    </button>\n",
              "\n",
              "  <style>\n",
              "    .colab-df-container {\n",
              "      display:flex;\n",
              "      gap: 12px;\n",
              "    }\n",
              "\n",
              "    .colab-df-convert {\n",
              "      background-color: #E8F0FE;\n",
              "      border: none;\n",
              "      border-radius: 50%;\n",
              "      cursor: pointer;\n",
              "      display: none;\n",
              "      fill: #1967D2;\n",
              "      height: 32px;\n",
              "      padding: 0 0 0 0;\n",
              "      width: 32px;\n",
              "    }\n",
              "\n",
              "    .colab-df-convert:hover {\n",
              "      background-color: #E2EBFA;\n",
              "      box-shadow: 0px 1px 2px rgba(60, 64, 67, 0.3), 0px 1px 3px 1px rgba(60, 64, 67, 0.15);\n",
              "      fill: #174EA6;\n",
              "    }\n",
              "\n",
              "    .colab-df-buttons div {\n",
              "      margin-bottom: 4px;\n",
              "    }\n",
              "\n",
              "    [theme=dark] .colab-df-convert {\n",
              "      background-color: #3B4455;\n",
              "      fill: #D2E3FC;\n",
              "    }\n",
              "\n",
              "    [theme=dark] .colab-df-convert:hover {\n",
              "      background-color: #434B5C;\n",
              "      box-shadow: 0px 1px 3px 1px rgba(0, 0, 0, 0.15);\n",
              "      filter: drop-shadow(0px 1px 2px rgba(0, 0, 0, 0.3));\n",
              "      fill: #FFFFFF;\n",
              "    }\n",
              "  </style>\n",
              "\n",
              "    <script>\n",
              "      const buttonEl =\n",
              "        document.querySelector('#df-d2ef1ba4-5651-4a27-9b9b-efd43ea8e58e button.colab-df-convert');\n",
              "      buttonEl.style.display =\n",
              "        google.colab.kernel.accessAllowed ? 'block' : 'none';\n",
              "\n",
              "      async function convertToInteractive(key) {\n",
              "        const element = document.querySelector('#df-d2ef1ba4-5651-4a27-9b9b-efd43ea8e58e');\n",
              "        const dataTable =\n",
              "          await google.colab.kernel.invokeFunction('convertToInteractive',\n",
              "                                                    [key], {});\n",
              "        if (!dataTable) return;\n",
              "\n",
              "        const docLinkHtml = 'Like what you see? Visit the ' +\n",
              "          '<a target=\"_blank\" href=https://colab.research.google.com/notebooks/data_table.ipynb>data table notebook</a>'\n",
              "          + ' to learn more about interactive tables.';\n",
              "        element.innerHTML = '';\n",
              "        dataTable['output_type'] = 'display_data';\n",
              "        await google.colab.output.renderOutput(dataTable, element);\n",
              "        const docLink = document.createElement('div');\n",
              "        docLink.innerHTML = docLinkHtml;\n",
              "        element.appendChild(docLink);\n",
              "      }\n",
              "    </script>\n",
              "  </div>\n",
              "\n",
              "\n",
              "<div id=\"df-f4c9167b-3224-4386-b826-a6112fa5569e\">\n",
              "  <button class=\"colab-df-quickchart\" onclick=\"quickchart('df-f4c9167b-3224-4386-b826-a6112fa5569e')\"\n",
              "            title=\"Suggest charts\"\n",
              "            style=\"display:none;\">\n",
              "\n",
              "<svg xmlns=\"http://www.w3.org/2000/svg\" height=\"24px\"viewBox=\"0 0 24 24\"\n",
              "     width=\"24px\">\n",
              "    <g>\n",
              "        <path d=\"M19 3H5c-1.1 0-2 .9-2 2v14c0 1.1.9 2 2 2h14c1.1 0 2-.9 2-2V5c0-1.1-.9-2-2-2zM9 17H7v-7h2v7zm4 0h-2V7h2v10zm4 0h-2v-4h2v4z\"/>\n",
              "    </g>\n",
              "</svg>\n",
              "  </button>\n",
              "\n",
              "<style>\n",
              "  .colab-df-quickchart {\n",
              "      --bg-color: #E8F0FE;\n",
              "      --fill-color: #1967D2;\n",
              "      --hover-bg-color: #E2EBFA;\n",
              "      --hover-fill-color: #174EA6;\n",
              "      --disabled-fill-color: #AAA;\n",
              "      --disabled-bg-color: #DDD;\n",
              "  }\n",
              "\n",
              "  [theme=dark] .colab-df-quickchart {\n",
              "      --bg-color: #3B4455;\n",
              "      --fill-color: #D2E3FC;\n",
              "      --hover-bg-color: #434B5C;\n",
              "      --hover-fill-color: #FFFFFF;\n",
              "      --disabled-bg-color: #3B4455;\n",
              "      --disabled-fill-color: #666;\n",
              "  }\n",
              "\n",
              "  .colab-df-quickchart {\n",
              "    background-color: var(--bg-color);\n",
              "    border: none;\n",
              "    border-radius: 50%;\n",
              "    cursor: pointer;\n",
              "    display: none;\n",
              "    fill: var(--fill-color);\n",
              "    height: 32px;\n",
              "    padding: 0;\n",
              "    width: 32px;\n",
              "  }\n",
              "\n",
              "  .colab-df-quickchart:hover {\n",
              "    background-color: var(--hover-bg-color);\n",
              "    box-shadow: 0 1px 2px rgba(60, 64, 67, 0.3), 0 1px 3px 1px rgba(60, 64, 67, 0.15);\n",
              "    fill: var(--button-hover-fill-color);\n",
              "  }\n",
              "\n",
              "  .colab-df-quickchart-complete:disabled,\n",
              "  .colab-df-quickchart-complete:disabled:hover {\n",
              "    background-color: var(--disabled-bg-color);\n",
              "    fill: var(--disabled-fill-color);\n",
              "    box-shadow: none;\n",
              "  }\n",
              "\n",
              "  .colab-df-spinner {\n",
              "    border: 2px solid var(--fill-color);\n",
              "    border-color: transparent;\n",
              "    border-bottom-color: var(--fill-color);\n",
              "    animation:\n",
              "      spin 1s steps(1) infinite;\n",
              "  }\n",
              "\n",
              "  @keyframes spin {\n",
              "    0% {\n",
              "      border-color: transparent;\n",
              "      border-bottom-color: var(--fill-color);\n",
              "      border-left-color: var(--fill-color);\n",
              "    }\n",
              "    20% {\n",
              "      border-color: transparent;\n",
              "      border-left-color: var(--fill-color);\n",
              "      border-top-color: var(--fill-color);\n",
              "    }\n",
              "    30% {\n",
              "      border-color: transparent;\n",
              "      border-left-color: var(--fill-color);\n",
              "      border-top-color: var(--fill-color);\n",
              "      border-right-color: var(--fill-color);\n",
              "    }\n",
              "    40% {\n",
              "      border-color: transparent;\n",
              "      border-right-color: var(--fill-color);\n",
              "      border-top-color: var(--fill-color);\n",
              "    }\n",
              "    60% {\n",
              "      border-color: transparent;\n",
              "      border-right-color: var(--fill-color);\n",
              "    }\n",
              "    80% {\n",
              "      border-color: transparent;\n",
              "      border-right-color: var(--fill-color);\n",
              "      border-bottom-color: var(--fill-color);\n",
              "    }\n",
              "    90% {\n",
              "      border-color: transparent;\n",
              "      border-bottom-color: var(--fill-color);\n",
              "    }\n",
              "  }\n",
              "</style>\n",
              "\n",
              "  <script>\n",
              "    async function quickchart(key) {\n",
              "      const quickchartButtonEl =\n",
              "        document.querySelector('#' + key + ' button');\n",
              "      quickchartButtonEl.disabled = true;  // To prevent multiple clicks.\n",
              "      quickchartButtonEl.classList.add('colab-df-spinner');\n",
              "      try {\n",
              "        const charts = await google.colab.kernel.invokeFunction(\n",
              "            'suggestCharts', [key], {});\n",
              "      } catch (error) {\n",
              "        console.error('Error during call to suggestCharts:', error);\n",
              "      }\n",
              "      quickchartButtonEl.classList.remove('colab-df-spinner');\n",
              "      quickchartButtonEl.classList.add('colab-df-quickchart-complete');\n",
              "    }\n",
              "    (() => {\n",
              "      let quickchartButtonEl =\n",
              "        document.querySelector('#df-f4c9167b-3224-4386-b826-a6112fa5569e button');\n",
              "      quickchartButtonEl.style.display =\n",
              "        google.colab.kernel.accessAllowed ? 'block' : 'none';\n",
              "    })();\n",
              "  </script>\n",
              "</div>\n",
              "\n",
              "    </div>\n",
              "  </div>\n"
            ],
            "application/vnd.google.colaboratory.intrinsic+json": {
              "type": "dataframe",
              "variable_name": "x",
              "summary": "{\n  \"name\": \"x\",\n  \"rows\": 241,\n  \"fields\": [\n    {\n      \"column\": \"Time (sec)\",\n      \"properties\": {\n        \"dtype\": \"number\",\n        \"std\": 348.5744779335783,\n        \"min\": 0.0,\n        \"max\": 1200.0,\n        \"num_unique_values\": 241,\n        \"samples\": [\n          120.0,\n          30.0,\n          1110.0\n        ],\n        \"semantic_type\": \"\",\n        \"description\": \"\"\n      }\n    },\n    {\n      \"column\": \"Heart Rate (BPM)\",\n      \"properties\": {\n        \"dtype\": \"number\",\n        \"std\": 11,\n        \"min\": 103,\n        \"max\": 154,\n        \"num_unique_values\": 44,\n        \"samples\": [\n          148,\n          135,\n          136\n        ],\n        \"semantic_type\": \"\",\n        \"description\": \"\"\n      }\n    }\n  ]\n}"
            }
          },
          "metadata": {},
          "execution_count": 6
        }
      ],
      "source": [
        "import pandas as pd\n",
        "x = pd.read_csv('https://apmonitor.com/che263/uploads/Main/heart_rate.txt')\n",
        "x.head()\n"
      ]
    },
    {
      "cell_type": "markdown",
      "metadata": {
        "id": "nWIzKatCngD3"
      },
      "source": [
        "***Action:*** Create a function that returns the predicted BPM given the time (t) and the four constants.\n"
      ]
    },
    {
      "cell_type": "code",
      "execution_count": 7,
      "metadata": {
        "id": "Ie2pZjHnngD4",
        "outputId": "70e0fe63-de9f-4042-8071-1cd3923d0ce9",
        "colab": {
          "base_uri": "https://localhost:8080/",
          "height": 300
        }
      },
      "outputs": [
        {
          "output_type": "execute_result",
          "data": {
            "text/plain": [
              "        Time (sec)  Heart Rate (BPM)\n",
              "count   241.000000        241.000000\n",
              "mean    600.000000        142.983402\n",
              "std     348.574478         11.387115\n",
              "min       0.000000        103.000000\n",
              "25%     300.000000        138.000000\n",
              "50%     600.000000        147.000000\n",
              "75%     900.000000        151.000000\n",
              "max    1200.000000        154.000000"
            ],
            "text/html": [
              "\n",
              "  <div id=\"df-ffb5a53f-c6fc-42fe-bc3c-02fee5ad06b3\" class=\"colab-df-container\">\n",
              "    <div>\n",
              "<style scoped>\n",
              "    .dataframe tbody tr th:only-of-type {\n",
              "        vertical-align: middle;\n",
              "    }\n",
              "\n",
              "    .dataframe tbody tr th {\n",
              "        vertical-align: top;\n",
              "    }\n",
              "\n",
              "    .dataframe thead th {\n",
              "        text-align: right;\n",
              "    }\n",
              "</style>\n",
              "<table border=\"1\" class=\"dataframe\">\n",
              "  <thead>\n",
              "    <tr style=\"text-align: right;\">\n",
              "      <th></th>\n",
              "      <th>Time (sec)</th>\n",
              "      <th>Heart Rate (BPM)</th>\n",
              "    </tr>\n",
              "  </thead>\n",
              "  <tbody>\n",
              "    <tr>\n",
              "      <th>count</th>\n",
              "      <td>241.000000</td>\n",
              "      <td>241.000000</td>\n",
              "    </tr>\n",
              "    <tr>\n",
              "      <th>mean</th>\n",
              "      <td>600.000000</td>\n",
              "      <td>142.983402</td>\n",
              "    </tr>\n",
              "    <tr>\n",
              "      <th>std</th>\n",
              "      <td>348.574478</td>\n",
              "      <td>11.387115</td>\n",
              "    </tr>\n",
              "    <tr>\n",
              "      <th>min</th>\n",
              "      <td>0.000000</td>\n",
              "      <td>103.000000</td>\n",
              "    </tr>\n",
              "    <tr>\n",
              "      <th>25%</th>\n",
              "      <td>300.000000</td>\n",
              "      <td>138.000000</td>\n",
              "    </tr>\n",
              "    <tr>\n",
              "      <th>50%</th>\n",
              "      <td>600.000000</td>\n",
              "      <td>147.000000</td>\n",
              "    </tr>\n",
              "    <tr>\n",
              "      <th>75%</th>\n",
              "      <td>900.000000</td>\n",
              "      <td>151.000000</td>\n",
              "    </tr>\n",
              "    <tr>\n",
              "      <th>max</th>\n",
              "      <td>1200.000000</td>\n",
              "      <td>154.000000</td>\n",
              "    </tr>\n",
              "  </tbody>\n",
              "</table>\n",
              "</div>\n",
              "    <div class=\"colab-df-buttons\">\n",
              "\n",
              "  <div class=\"colab-df-container\">\n",
              "    <button class=\"colab-df-convert\" onclick=\"convertToInteractive('df-ffb5a53f-c6fc-42fe-bc3c-02fee5ad06b3')\"\n",
              "            title=\"Convert this dataframe to an interactive table.\"\n",
              "            style=\"display:none;\">\n",
              "\n",
              "  <svg xmlns=\"http://www.w3.org/2000/svg\" height=\"24px\" viewBox=\"0 -960 960 960\">\n",
              "    <path d=\"M120-120v-720h720v720H120Zm60-500h600v-160H180v160Zm220 220h160v-160H400v160Zm0 220h160v-160H400v160ZM180-400h160v-160H180v160Zm440 0h160v-160H620v160ZM180-180h160v-160H180v160Zm440 0h160v-160H620v160Z\"/>\n",
              "  </svg>\n",
              "    </button>\n",
              "\n",
              "  <style>\n",
              "    .colab-df-container {\n",
              "      display:flex;\n",
              "      gap: 12px;\n",
              "    }\n",
              "\n",
              "    .colab-df-convert {\n",
              "      background-color: #E8F0FE;\n",
              "      border: none;\n",
              "      border-radius: 50%;\n",
              "      cursor: pointer;\n",
              "      display: none;\n",
              "      fill: #1967D2;\n",
              "      height: 32px;\n",
              "      padding: 0 0 0 0;\n",
              "      width: 32px;\n",
              "    }\n",
              "\n",
              "    .colab-df-convert:hover {\n",
              "      background-color: #E2EBFA;\n",
              "      box-shadow: 0px 1px 2px rgba(60, 64, 67, 0.3), 0px 1px 3px 1px rgba(60, 64, 67, 0.15);\n",
              "      fill: #174EA6;\n",
              "    }\n",
              "\n",
              "    .colab-df-buttons div {\n",
              "      margin-bottom: 4px;\n",
              "    }\n",
              "\n",
              "    [theme=dark] .colab-df-convert {\n",
              "      background-color: #3B4455;\n",
              "      fill: #D2E3FC;\n",
              "    }\n",
              "\n",
              "    [theme=dark] .colab-df-convert:hover {\n",
              "      background-color: #434B5C;\n",
              "      box-shadow: 0px 1px 3px 1px rgba(0, 0, 0, 0.15);\n",
              "      filter: drop-shadow(0px 1px 2px rgba(0, 0, 0, 0.3));\n",
              "      fill: #FFFFFF;\n",
              "    }\n",
              "  </style>\n",
              "\n",
              "    <script>\n",
              "      const buttonEl =\n",
              "        document.querySelector('#df-ffb5a53f-c6fc-42fe-bc3c-02fee5ad06b3 button.colab-df-convert');\n",
              "      buttonEl.style.display =\n",
              "        google.colab.kernel.accessAllowed ? 'block' : 'none';\n",
              "\n",
              "      async function convertToInteractive(key) {\n",
              "        const element = document.querySelector('#df-ffb5a53f-c6fc-42fe-bc3c-02fee5ad06b3');\n",
              "        const dataTable =\n",
              "          await google.colab.kernel.invokeFunction('convertToInteractive',\n",
              "                                                    [key], {});\n",
              "        if (!dataTable) return;\n",
              "\n",
              "        const docLinkHtml = 'Like what you see? Visit the ' +\n",
              "          '<a target=\"_blank\" href=https://colab.research.google.com/notebooks/data_table.ipynb>data table notebook</a>'\n",
              "          + ' to learn more about interactive tables.';\n",
              "        element.innerHTML = '';\n",
              "        dataTable['output_type'] = 'display_data';\n",
              "        await google.colab.output.renderOutput(dataTable, element);\n",
              "        const docLink = document.createElement('div');\n",
              "        docLink.innerHTML = docLinkHtml;\n",
              "        element.appendChild(docLink);\n",
              "      }\n",
              "    </script>\n",
              "  </div>\n",
              "\n",
              "\n",
              "<div id=\"df-ca16515a-d387-4548-a5bd-ab87aafd6c1f\">\n",
              "  <button class=\"colab-df-quickchart\" onclick=\"quickchart('df-ca16515a-d387-4548-a5bd-ab87aafd6c1f')\"\n",
              "            title=\"Suggest charts\"\n",
              "            style=\"display:none;\">\n",
              "\n",
              "<svg xmlns=\"http://www.w3.org/2000/svg\" height=\"24px\"viewBox=\"0 0 24 24\"\n",
              "     width=\"24px\">\n",
              "    <g>\n",
              "        <path d=\"M19 3H5c-1.1 0-2 .9-2 2v14c0 1.1.9 2 2 2h14c1.1 0 2-.9 2-2V5c0-1.1-.9-2-2-2zM9 17H7v-7h2v7zm4 0h-2V7h2v10zm4 0h-2v-4h2v4z\"/>\n",
              "    </g>\n",
              "</svg>\n",
              "  </button>\n",
              "\n",
              "<style>\n",
              "  .colab-df-quickchart {\n",
              "      --bg-color: #E8F0FE;\n",
              "      --fill-color: #1967D2;\n",
              "      --hover-bg-color: #E2EBFA;\n",
              "      --hover-fill-color: #174EA6;\n",
              "      --disabled-fill-color: #AAA;\n",
              "      --disabled-bg-color: #DDD;\n",
              "  }\n",
              "\n",
              "  [theme=dark] .colab-df-quickchart {\n",
              "      --bg-color: #3B4455;\n",
              "      --fill-color: #D2E3FC;\n",
              "      --hover-bg-color: #434B5C;\n",
              "      --hover-fill-color: #FFFFFF;\n",
              "      --disabled-bg-color: #3B4455;\n",
              "      --disabled-fill-color: #666;\n",
              "  }\n",
              "\n",
              "  .colab-df-quickchart {\n",
              "    background-color: var(--bg-color);\n",
              "    border: none;\n",
              "    border-radius: 50%;\n",
              "    cursor: pointer;\n",
              "    display: none;\n",
              "    fill: var(--fill-color);\n",
              "    height: 32px;\n",
              "    padding: 0;\n",
              "    width: 32px;\n",
              "  }\n",
              "\n",
              "  .colab-df-quickchart:hover {\n",
              "    background-color: var(--hover-bg-color);\n",
              "    box-shadow: 0 1px 2px rgba(60, 64, 67, 0.3), 0 1px 3px 1px rgba(60, 64, 67, 0.15);\n",
              "    fill: var(--button-hover-fill-color);\n",
              "  }\n",
              "\n",
              "  .colab-df-quickchart-complete:disabled,\n",
              "  .colab-df-quickchart-complete:disabled:hover {\n",
              "    background-color: var(--disabled-bg-color);\n",
              "    fill: var(--disabled-fill-color);\n",
              "    box-shadow: none;\n",
              "  }\n",
              "\n",
              "  .colab-df-spinner {\n",
              "    border: 2px solid var(--fill-color);\n",
              "    border-color: transparent;\n",
              "    border-bottom-color: var(--fill-color);\n",
              "    animation:\n",
              "      spin 1s steps(1) infinite;\n",
              "  }\n",
              "\n",
              "  @keyframes spin {\n",
              "    0% {\n",
              "      border-color: transparent;\n",
              "      border-bottom-color: var(--fill-color);\n",
              "      border-left-color: var(--fill-color);\n",
              "    }\n",
              "    20% {\n",
              "      border-color: transparent;\n",
              "      border-left-color: var(--fill-color);\n",
              "      border-top-color: var(--fill-color);\n",
              "    }\n",
              "    30% {\n",
              "      border-color: transparent;\n",
              "      border-left-color: var(--fill-color);\n",
              "      border-top-color: var(--fill-color);\n",
              "      border-right-color: var(--fill-color);\n",
              "    }\n",
              "    40% {\n",
              "      border-color: transparent;\n",
              "      border-right-color: var(--fill-color);\n",
              "      border-top-color: var(--fill-color);\n",
              "    }\n",
              "    60% {\n",
              "      border-color: transparent;\n",
              "      border-right-color: var(--fill-color);\n",
              "    }\n",
              "    80% {\n",
              "      border-color: transparent;\n",
              "      border-right-color: var(--fill-color);\n",
              "      border-bottom-color: var(--fill-color);\n",
              "    }\n",
              "    90% {\n",
              "      border-color: transparent;\n",
              "      border-bottom-color: var(--fill-color);\n",
              "    }\n",
              "  }\n",
              "</style>\n",
              "\n",
              "  <script>\n",
              "    async function quickchart(key) {\n",
              "      const quickchartButtonEl =\n",
              "        document.querySelector('#' + key + ' button');\n",
              "      quickchartButtonEl.disabled = true;  // To prevent multiple clicks.\n",
              "      quickchartButtonEl.classList.add('colab-df-spinner');\n",
              "      try {\n",
              "        const charts = await google.colab.kernel.invokeFunction(\n",
              "            'suggestCharts', [key], {});\n",
              "      } catch (error) {\n",
              "        console.error('Error during call to suggestCharts:', error);\n",
              "      }\n",
              "      quickchartButtonEl.classList.remove('colab-df-spinner');\n",
              "      quickchartButtonEl.classList.add('colab-df-quickchart-complete');\n",
              "    }\n",
              "    (() => {\n",
              "      let quickchartButtonEl =\n",
              "        document.querySelector('#df-ca16515a-d387-4548-a5bd-ab87aafd6c1f button');\n",
              "      quickchartButtonEl.style.display =\n",
              "        google.colab.kernel.accessAllowed ? 'block' : 'none';\n",
              "    })();\n",
              "  </script>\n",
              "</div>\n",
              "\n",
              "    </div>\n",
              "  </div>\n"
            ],
            "application/vnd.google.colaboratory.intrinsic+json": {
              "type": "dataframe",
              "summary": "{\n  \"name\": \"x\",\n  \"rows\": 8,\n  \"fields\": [\n    {\n      \"column\": \"Time (sec)\",\n      \"properties\": {\n        \"dtype\": \"number\",\n        \"std\": 386.47091526079475,\n        \"min\": 0.0,\n        \"max\": 1200.0,\n        \"num_unique_values\": 7,\n        \"samples\": [\n          241.0,\n          600.0,\n          900.0\n        ],\n        \"semantic_type\": \"\",\n        \"description\": \"\"\n      }\n    },\n    {\n      \"column\": \"Heart Rate (BPM)\",\n      \"properties\": {\n        \"dtype\": \"number\",\n        \"std\": 63.65658066740323,\n        \"min\": 11.387115088620718,\n        \"max\": 241.0,\n        \"num_unique_values\": 8,\n        \"samples\": [\n          142.98340248962654,\n          147.0,\n          241.0\n        ],\n        \"semantic_type\": \"\",\n        \"description\": \"\"\n      }\n    }\n  ]\n}"
            }
          },
          "metadata": {},
          "execution_count": 7
        }
      ],
      "source": [
        "x.describe()"
      ]
    },
    {
      "cell_type": "code",
      "source": [
        "import numpy as np\n",
        "def bpm(t,c0,c1,c2,c3):\n",
        "    return c0+c1*t-c2*np.exp(-c3*t)"
      ],
      "metadata": {
        "id": "KeGzh_S58DdX"
      },
      "execution_count": 12,
      "outputs": []
    },
    {
      "cell_type": "markdown",
      "metadata": {
        "id": "55EAyDgvngD5"
      },
      "source": [
        "***Action:*** To obtain good guess values, plot the data and the function before trying the solver. Providing good guess values is the key to getting a solution.\n",
        "\n",
        "* $c_0$ and $c_2$ are in the range of $50$ to $200$\n",
        "* $c_1$ and $c_3$ are closer to $0.01$"
      ]
    },
    {
      "cell_type": "code",
      "execution_count": 16,
      "metadata": {
        "id": "uJ8iPMPWngD6",
        "outputId": "dde64e19-2c12-4d46-8fdc-165460562bc6",
        "colab": {
          "base_uri": "https://localhost:8080/",
          "height": 447
        }
      },
      "outputs": [
        {
          "output_type": "execute_result",
          "data": {
            "text/plain": [
              "[<matplotlib.lines.Line2D at 0x788eb3a157e0>]"
            ]
          },
          "metadata": {},
          "execution_count": 16
        },
        {
          "output_type": "display_data",
          "data": {
            "text/plain": [
              "<Figure size 640x480 with 1 Axes>"
            ],
            "image/png": "[encoded data removed]"
          },
          "metadata": {}
        }
      ],
      "source": [
        "g = [ 150, 0.01, 80, 0.01]\n",
        "import matplotlib.pyplot as plt\n",
        "\n",
        "n = len(x['Time (sec)'])\n",
        "y = np.empty(n)\n",
        "for i in range(n):\n",
        "    y[i] = bpm(x['Time (sec)'][i],g[0],g[1],g[2],g[3])\n",
        "\n",
        "plt.plot(x['Time (sec)'], x['Heart Rate (BPM)'])\n",
        "plt.plot(x['Time (sec)'], y)"
      ]
    },
    {
      "cell_type": "markdown",
      "metadata": {
        "id": "v3KDmO1AngD6"
      },
      "source": [
        "***Action:*** Fit the data to the following correlation by adjusting the values of $c_0$, $c_1$, $c_2$, $c_3$ using ```scipy.optimize.curve_fit```.\n",
        "\n",
        "$BPM=c_0+c_1 \\, t-c_2 e^{-c_3 \\, t}$\n",
        "\n",
        "Determine the values of c0, c1, c2, and c3 that minimize the error between the model prediction and measured values."
      ]
    },
    {
      "cell_type": "code",
      "execution_count": 20,
      "metadata": {
        "id": "-Z6mWLVingD8",
        "outputId": "ba1af877-29f4-46ee-a77f-03c58aed49f3",
        "colab": {
          "base_uri": "https://localhost:8080/",
          "height": 465
        }
      },
      "outputs": [
        {
          "output_type": "stream",
          "name": "stdout",
          "text": [
            "[1.42373197e+02 9.24806119e-03 4.00292042e+01 6.84029127e-03]\n"
          ]
        },
        {
          "output_type": "execute_result",
          "data": {
            "text/plain": [
              "[<matplotlib.lines.Line2D at 0x788eb33f19f0>]"
            ]
          },
          "metadata": {},
          "execution_count": 20
        },
        {
          "output_type": "display_data",
          "data": {
            "text/plain": [
              "<Figure size 640x480 with 1 Axes>"
            ],
            "image/png": "[encoded data removed]"
          },
          "metadata": {}
        }
      ],
      "source": [
        "from scipy.optimize import curve_fit\n",
        "t = x['Time (sec)']\n",
        "hr = x['Heart Rate (BPM)']\n",
        "c,cov = curve_fit(bpm,t,hr,g)\n",
        "print(c)\n",
        "for i in range(n):\n",
        "    y[i] = bpm(x['Time (sec)'][i],c[0],c[1],c[2],c[3])\n",
        "\n",
        "plt.plot(x['Time (sec)'], x['Heart Rate (BPM)'])\n",
        "plt.plot(x['Time (sec)'], y)"
      ]
    },
    {
      "cell_type": "markdown",
      "metadata": {
        "id": "Q6F7-P1ZngD8"
      },
      "source": [
        "***Action:*** Calculate the $R^2$ value for the fit.  Values closer to $1$ are a better fit than those closer to $0$. One method is to use ```sklearn```:\n",
        "\n",
        "```python\n",
        "from sklearn.metrics import r2_score\n",
        "print('R^2: ', r2_score(yp,ym))\n",
        "```\n",
        "\n",
        "where ```yp``` are the predicted values and ```ym``` are the measured values. The $R^2$ value should be close to 0.98."
      ]
    },
    {
      "cell_type": "code",
      "execution_count": 21,
      "metadata": {
        "id": "K20ajKe4ngD9",
        "outputId": "79c21f31-f539-49c9-87e4-fcae7f88161f",
        "colab": {
          "base_uri": "https://localhost:8080/"
        }
      },
      "outputs": [
        {
          "output_type": "stream",
          "name": "stdout",
          "text": [
            "R^2:  0.9930375847646636\n"
          ]
        }
      ],
      "source": [
        "from sklearn.metrics import r2_score\n",
        "print('R^2: ', r2_score(hr,y))"
      ]
    },
    {
      "cell_type": "markdown",
      "metadata": {
        "id": "XBcl7ZejngD9"
      },
      "source": [
        "### Problem #2\n",
        "\n",
        "This next exercise is similar to the one above but it also requires a conditional statement to determine if the time is past the dead-time limit. The following link contains data for the response of a first order system with time delay.  \n",
        "\n",
        "* <a href='https://apmonitor.com/che263/uploads/Main/dynamics.txt' target='_blank'>Dynamic Data, URL: https://apmonitor.com/che263/uploads/Main/dynamics.txt</a>\n",
        "\n",
        "Such step data is used to create controllers for automation. You will learn about this in <a href='https://apmonitor.com/pdc' target='_blank'>ChE 436, Process Dynamics and Control</a>.\n",
        "\n",
        "***Action:*** Import the data, view the first 5 rows, generate a plot, and calculate summary statistics."
      ]
    },
    {
      "cell_type": "code",
      "execution_count": null,
      "metadata": {
        "id": "JTQXeQSgngD-"
      },
      "outputs": [],
      "source": []
    },
    {
      "cell_type": "markdown",
      "metadata": {
        "id": "MZzzyFOsngD-"
      },
      "source": [
        "Conditional statements are used to direct the flow of the program to different commands based on whether a statement is ```True``` or ```False```. A boolean (```True``` or ```False```) is used to direct the flow with an ```if```, ```elif``` (else if), or ```else``` parts to the statement.\n",
        "\n",
        "```python\n",
        "x = 5\n",
        "if (x<3):\n",
        "    print('less than 3')\n",
        "elif (x<4):\n",
        "    print('between 3 and 4')\n",
        "else:\n",
        "    print('greater than 4')\n",
        "```\n",
        "\n",
        "As the value of ```x``` changes, a different message is printed.\n",
        "\n",
        "There is a switching function that equals *zero* when time is less than the dead-time $(\\theta)$ and equals *one* when time is greater than or equal to the dead-time.\n",
        "\n",
        "$S(t-\\theta) = \\left[ {\\begin{array}{c} 0 \\, \\mathrm{when} \\, t \\lt \\theta \\\\ 1 \\, \\mathrm{when} \\, t\\ge \\theta \\end{array} } \\right]$\n",
        "\n",
        "***Action:*** With an initial guess of $\\theta$ = 0.4, calculate the value of $S(t-\\theta)$ for all time points in the data."
      ]
    },
    {
      "cell_type": "code",
      "execution_count": null,
      "metadata": {
        "id": "uZIgFm7JngD_"
      },
      "outputs": [],
      "source": []
    },
    {
      "cell_type": "markdown",
      "metadata": {
        "id": "Pp7cULDmngEA"
      },
      "source": [
        "***Action:*** Define a function ```yfcn``` that has input arguments of ```t``` (time), ```tau``` ($\\tau$), and ```theta``` ($\\theta).\n",
        "\n",
        "```python\n",
        "def yfcn(t,tau,theta):\n",
        "```\n",
        "\n",
        "The function should return the predicted ```y(t)``` values as a Numpy array."
      ]
    },
    {
      "cell_type": "code",
      "execution_count": null,
      "metadata": {
        "id": "6aLbVrlBngEB"
      },
      "outputs": [],
      "source": []
    },
    {
      "cell_type": "markdown",
      "metadata": {
        "id": "nPdMvEkZngEB"
      },
      "source": [
        "***Action:*** Find the constants, $\\tau$ and $\\theta$, to best fit the process data, y(t).\n",
        "\n",
        "$y(t)=5 \\left( 1-\\exp{\\left(-\\frac{t-\\theta}{\\tau}\\right)} \\right) S(t-\\theta)$\n",
        "\n",
        "Use ```scipy.optimize.curve_fit``` to find a solution:\n",
        "\n",
        "```python\n",
        "# yfcn=function name from above\n",
        "# t=time\n",
        "# ym=measured y(t)\n",
        "c,cov = curve_fit(yfcn,t,ym)\n",
        "```"
      ]
    },
    {
      "cell_type": "code",
      "execution_count": null,
      "metadata": {
        "id": "Nrl2HH2kngEC"
      },
      "outputs": [],
      "source": []
    },
    {
      "cell_type": "markdown",
      "metadata": {
        "id": "CfCA4mtQngEC"
      },
      "source": [
        "***Action:*** Calculate the $R^2$ value for the fit. One method is to use ```sklearn```:\n",
        "\n",
        "```python\n",
        "from sklearn.metrics import r2_score\n",
        "print('R^2: ', r2_score(yp,ym))\n",
        "```\n",
        "\n",
        "where ```yp``` are the predicted values and ```ym``` are the measured values."
      ]
    },
    {
      "cell_type": "code",
      "execution_count": null,
      "metadata": {
        "id": "7aDk7KjCngEC"
      },
      "outputs": [],
      "source": []
    },
    {
      "cell_type": "markdown",
      "metadata": {
        "id": "NxEZ1UGangED"
      },
      "source": [
        "***Action:*** Generate a plot that shows the data and the function with the optimized parameters. It should look similar to the plot shown below.\n",
        "\n",
        "![step_test.png](attachment:step_test.png)"
      ]
    },
    {
      "cell_type": "code",
      "execution_count": null,
      "metadata": {
        "id": "yBlo7sOQngED"
      },
      "outputs": [],
      "source": []
    },
    {
      "cell_type": "markdown",
      "metadata": {
        "id": "VkQfrF3BngED"
      },
      "source": [
        "### Problem #3\n",
        "\n",
        "Random numbers are important to simulate a physical process where there is a random fluctuation of the values. Some of the common random number generators in Numpy are shown in the table below.\n",
        "\n",
        "| ***Function*** | ***Description*** |\n",
        "| --- | --- |\n",
        "| rand | Uniformly distributed values |\n",
        "| randn | Normally distributed values |\n",
        "| randint | Uniformly distributed integers in a given range |\n",
        "\n",
        "A few examples are listed below:\n",
        "\n",
        "*Generate two random numbers between 0 and 1*\n",
        "\n",
        "```python\n",
        "import numpy as np\n",
        "print(np.random.rand(2))\n",
        "Result: [0.90411793 0.01642428]\n",
        "```\n",
        "\n",
        "*Generate a random number between -1 and 1*\n",
        "\n",
        "```python\n",
        "print(np.random.rand()*2.0-1.0)\n",
        "Result: -0.34398648976057977\n",
        "```\n",
        "\n",
        "*Generate a random integer between 1 and 10*\n",
        "\n",
        "```python\n",
        "print(np.random.randint(0,10)+1)\n",
        "Result: 4\n",
        "```\n",
        "\n",
        "*Generate 50 normally distributed values and create a histogram bar chart to view the distribution.*\n",
        "\n",
        "***Action:*** Increase the number of normally distributed points to ```n=1000``` and re-generate the plot."
      ]
    },
    {
      "cell_type": "code",
      "execution_count": null,
      "metadata": {
        "id": "HElf7M1xngEE",
        "outputId": "3cd920b2-f79c-496f-d79a-a649ef1d5755"
      },
      "outputs": [
        {
          "name": "stdout",
          "output_type": "stream",
          "text": [
            "[-5.5 -5.  -4.5 -4.  -3.5 -3.  -2.5 -2.  -1.5 -1.  -0.5  0.   0.5  1.\n",
            "  1.5  2.   2.5  3.   3.5  4.   4.5  5.   5.5]\n"
          ]
        },
        {
          "data": {
            "image/png": "[encoded data removed]",
            "text/plain": [
              "<Figure size 432x288 with 1 Axes>"
            ]
          },
          "metadata": {
            "needs_background": "light"
          },
          "output_type": "display_data"
        }
      ],
      "source": [
        "import numpy as np\n",
        "%matplotlib inline\n",
        "import matplotlib.pyplot as plt\n",
        "\n",
        "n = 50\n",
        "x = np.random.randn(n)\n",
        "\n",
        "# count number in each bin\n",
        "bins=np.linspace(-5.5,5.5,23)\n",
        "print(bins)\n",
        "hist, _ = np.histogram(x, bins)\n",
        "\n",
        "# plot histogram data\n",
        "plt.bar(bins[0:-1]+0.25,hist,label=str(n)+' samples')\n",
        "plt.plot(bins[0:-1]+0.25,hist,'r-',lw=5)\n",
        "plt.xlabel('bin')\n",
        "plt.ylabel('count')\n",
        "plt.title('Normal Distribution')\n",
        "plt.legend(loc='best')\n",
        "plt.show()"
      ]
    },
    {
      "cell_type": "markdown",
      "metadata": {
        "id": "MYmiaqsBngEG"
      },
      "source": [
        "***Action:*** Create 1000 random numbers with a Poisson distribution using ```lambda = 1```. Use the ```np.random.poisson(lam,n)``` function."
      ]
    },
    {
      "cell_type": "code",
      "execution_count": null,
      "metadata": {
        "id": "ypejI6OmngEG"
      },
      "outputs": [],
      "source": []
    },
    {
      "cell_type": "markdown",
      "metadata": {
        "id": "ryNlC2YAngEG"
      },
      "source": [
        "***Action:*** Use bins (0,1,2,3,4,5) to determine the frequency at which a number appears. Use the ```np.histogram``` function to count the number in each bin.\n",
        "\n",
        "```python\n",
        "bins=[0,1,2,3,4,5,6]\n",
        "hist, _ = np.histogram(x, bins)\n",
        "```"
      ]
    },
    {
      "cell_type": "code",
      "execution_count": null,
      "metadata": {
        "id": "CHgONWNungEH"
      },
      "outputs": [],
      "source": []
    },
    {
      "cell_type": "markdown",
      "metadata": {
        "id": "8aoniLC4ngEH"
      },
      "source": [
        "***Action:*** Plot the number in each bin with a column plot (total count versus bin). Use the ```plt.bar``` function in ```maplotlib.pyplot```.  Remove the last bin value so that the size of ```hist``` corresponds to the number of bins plotted as ```plt.bar(bins[0:-1],hist)```, where ```bins[0:-1]=[0,1,2,3,4,5]```."
      ]
    },
    {
      "cell_type": "code",
      "execution_count": null,
      "metadata": {
        "id": "G9eF6x1NngEI"
      },
      "outputs": [],
      "source": []
    }
  ],
  "metadata": {
    "kernelspec": {
      "display_name": "Python 3",
      "language": "python",
      "name": "python3"
    },
    "language_info": {
      "codemirror_mode": {
        "name": "ipython",
        "version": 3
      },
      "file_extension": ".py",
      "mimetype": "text/x-python",
      "name": "python",
      "nbconvert_exporter": "python",
      "pygments_lexer": "ipython3",
      "version": "3.7.0"
    },
    "colab": {
      "provenance": []
    }
  },
  "nbformat": 4,
  "nbformat_minor": 0
}